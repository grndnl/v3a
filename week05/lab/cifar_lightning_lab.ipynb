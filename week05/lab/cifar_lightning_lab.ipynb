{
 "cells": [
  {
   "cell_type": "markdown",
   "id": "e43bda15",
   "metadata": {
    "id": "e43bda15"
   },
   "source": [
    "### Must install Lightning"
   ]
  },
  {
   "cell_type": "code",
   "execution_count": 9,
   "outputs": [
    {
     "name": "stderr",
     "output_type": "stream",
     "text": [
      "ERROR: pip's dependency resolver does not currently take into account all the packages that are installed. This behaviour is the source of the following dependency conflicts.\n",
      "tensorflow-gpu 2.9.1 requires absl-py>=1.0.0, which is not installed.\n",
      "tensorflow-gpu 2.9.1 requires astunparse>=1.6.0, which is not installed.\n",
      "tensorflow-gpu 2.9.1 requires flatbuffers<2,>=1.12, which is not installed.\n",
      "tensorflow-gpu 2.9.1 requires gast<=0.4.0,>=0.2.1, which is not installed.\n",
      "tensorflow-gpu 2.9.1 requires google-pasta>=0.1.1, which is not installed.\n",
      "tensorflow-gpu 2.9.1 requires grpcio<2.0,>=1.24.3, which is not installed.\n",
      "tensorflow-gpu 2.9.1 requires h5py>=2.9.0, which is not installed.\n",
      "tensorflow-gpu 2.9.1 requires keras<2.10.0,>=2.9.0rc0, which is not installed.\n",
      "tensorflow-gpu 2.9.1 requires keras-preprocessing>=1.1.1, which is not installed.\n",
      "tensorflow-gpu 2.9.1 requires libclang>=13.0.0, which is not installed.\n",
      "tensorflow-gpu 2.9.1 requires opt-einsum>=2.3.2, which is not installed.\n",
      "tensorflow-gpu 2.9.1 requires tensorboard<2.10,>=2.9, which is not installed.\n",
      "tensorflow-gpu 2.9.1 requires tensorflow-estimator<2.10.0,>=2.9.0rc0, which is not installed.\n",
      "tensorflow-gpu 2.9.1 requires tensorflow-io-gcs-filesystem>=0.23.1, which is not installed.\n",
      "tensorflow-gpu 2.9.1 requires termcolor>=1.1.0, which is not installed.\n",
      "tensorflow-gpu 2.9.1 requires wrapt>=1.11.0, which is not installed.\n",
      "tensorflow-gpu 2.9.1 requires protobuf<3.20,>=3.9.2, but you have protobuf 3.20.1 which is incompatible.\n"
     ]
    }
   ],
   "source": [
    "!pip3 install lightning-bolts==0.6.0 --quiet\n",
    "!pip3 install pytorch-lightning==1.8.5 --quiet"
   ],
   "metadata": {
    "collapsed": false,
    "pycharm": {
     "name": "#%%\n"
    }
   }
  },
  {
   "cell_type": "code",
   "execution_count": 12,
   "outputs": [],
   "source": [
    "from torchvision import transforms\n",
    "import pytorch_lightning as pl\n",
    "#from pl_bolts.transforms.dataset_normalizations import cifar10_normalization\n",
    "from torchvision.models.resnet import resnet18\n",
    "from pytorch_lightning import Trainer, LightningModule\n",
    "import torch.nn as nn\n",
    "import torch\n",
    "from torch.nn import functional as F\n",
    "from torch.utils.data import DataLoader, random_split\n",
    "from torchvision.datasets import CIFAR10\n",
    "from torchmetrics.functional import accuracy\n",
    "from pytorch_lightning.callbacks import Callback\n",
    "from pytorch_lightning.callbacks.early_stopping import EarlyStopping\n",
    "from pytorch_lightning.callbacks import ModelCheckpoint\n"
   ],
   "metadata": {
    "collapsed": false,
    "pycharm": {
     "name": "#%%\n"
    }
   }
  },
  {
   "cell_type": "code",
   "execution_count": 30,
   "outputs": [],
   "source": [
    "EPOCHS = 5\n",
    "LR = 0.1\n",
    "MOMENTUM = 0.9\n",
    "WEIGHT_DECAY = 5e-4\n",
    "PRINT_FREQ = 50\n",
    "TRAIN_BATCH=128\n",
    "VAL_BATCH=128"
   ],
   "metadata": {
    "collapsed": false,
    "pycharm": {
     "name": "#%%\n"
    }
   }
  },
  {
   "cell_type": "code",
   "execution_count": 15,
   "outputs": [],
   "source": [
    "GPU = 0\n",
    "cifar_mean_RGB = [0.4914, 0.4822, 0.4465]\n",
    "cifar_std_RGB = [0.2023, 0.1994, 0.2010]"
   ],
   "metadata": {
    "collapsed": false,
    "pycharm": {
     "name": "#%%\n"
    }
   }
  },
  {
   "cell_type": "markdown",
   "source": [
    "### fill in the transform statements below"
   ],
   "metadata": {
    "collapsed": false,
    "pycharm": {
     "name": "#%% md\n"
    }
   }
  },
  {
   "cell_type": "code",
   "execution_count": 16,
   "outputs": [],
   "source": [
    "class CIFAR10DataModule(pl.LightningDataModule):\n",
    "    def __init__(self, train_batch_size, val_batch_size, data_dir: str = './'):\n",
    "        super().__init__()\n",
    "        self.data_dir = data_dir\n",
    "        self.train_batch_size = train_batch_size\n",
    "        self.val_batch_size = val_batch_size\n",
    "        \n",
    "        self.transform_train = transforms.Compose([\n",
    "    transforms.RandomCrop(32, padding=4),\n",
    "    transforms.RandomHorizontalFlip(),\n",
    "    transforms.ToTensor(),\n",
    "    transforms.Normalize(cifar_mean_RGB, cifar_std_RGB),\n",
    "])\n",
    "        self.transform_val = transforms.Compose([\n",
    "    transforms.ToTensor(),\n",
    "    transforms.Normalize(cifar_mean_RGB, cifar_std_RGB),\n",
    "])\n",
    "        \n",
    "        self.dims = (3, 32, 32)\n",
    "        self.num_classes = 10\n",
    "\n",
    "    def prepare_data(self):\n",
    "        # download \n",
    "        CIFAR10(self.data_dir, train=True, download=True)\n",
    "        CIFAR10(self.data_dir, train=False, download=True)\n",
    "\n",
    "    def setup(self, stage=None):\n",
    "        # Assign train/val datasets for use in dataloaders\n",
    "        if stage == 'fit' or stage is None:\n",
    "#            cifar_full = CIFAR10(self.data_dir, train=True, transform=self.transform)\n",
    "#            self.cifar_train, self.cifar_val = random_split(cifar_full, [45000, 5000])\n",
    "            self.cifar_train = CIFAR10(self.data_dir, train=True, transform=self.transform_train)\n",
    "            self.cifar_val = CIFAR10(self.data_dir, train=False, transform=self.transform_val)\n",
    "\n",
    "        # Assign test dataset for use in dataloader(s)\n",
    "        if stage == 'test' or stage is None:\n",
    "            self.cifar_test = CIFAR10(self.data_dir, train=False, transform=self.transform_val)\n",
    "\n",
    "    def train_dataloader(self):\n",
    "        return DataLoader(self.cifar_train, batch_size=self.train_batch_size, num_workers = 2, shuffle=True)\n",
    "\n",
    "    def val_dataloader(self):\n",
    "        return DataLoader(self.cifar_val, batch_size=self.val_batch_size, num_workers = 2)\n",
    "\n",
    "    def test_dataloader(self):\n",
    "        return DataLoader(self.cifar_test, batch_size=self.batch_size, num_workers = 2)"
   ],
   "metadata": {
    "collapsed": false,
    "pycharm": {
     "name": "#%%\n"
    }
   }
  },
  {
   "cell_type": "code",
   "execution_count": 17,
   "outputs": [
    {
     "name": "stdout",
     "output_type": "stream",
     "text": [
      "Downloading https://www.cs.toronto.edu/~kriz/cifar-10-python.tar.gz to ./cifar-10-python.tar.gz\n"
     ]
    },
    {
     "data": {
      "text/plain": "  0%|          | 0/170498071 [00:00<?, ?it/s]",
      "application/vnd.jupyter.widget-view+json": {
       "version_major": 2,
       "version_minor": 0,
       "model_id": "457e82ad70a74030bf0d7792abb53d28"
      }
     },
     "metadata": {},
     "output_type": "display_data"
    },
    {
     "name": "stdout",
     "output_type": "stream",
     "text": [
      "Extracting ./cifar-10-python.tar.gz to ./\n",
      "Files already downloaded and verified\n"
     ]
    }
   ],
   "source": [
    "dm = CIFAR10DataModule(TRAIN_BATCH, VAL_BATCH)\n",
    "dm.prepare_data()\n",
    "dm.setup()\n"
   ],
   "metadata": {
    "collapsed": false,
    "pycharm": {
     "name": "#%%\n"
    }
   }
  },
  {
   "cell_type": "code",
   "execution_count": 18,
   "outputs": [],
   "source": [
    "MODEL_CKPT_PATH = 'model/'\n",
    "MODEL_CKPT = 'model/model-{epoch:02d}-{val_loss:.2f}'\n",
    "\n",
    "checkpoint_callback = ModelCheckpoint(\n",
    "    monitor='val_loss',\n",
    "    filename=MODEL_CKPT ,\n",
    "    save_top_k=3,\n",
    "    mode='min')"
   ],
   "metadata": {
    "collapsed": false,
    "pycharm": {
     "name": "#%%\n"
    }
   }
  },
  {
   "cell_type": "code",
   "execution_count": 19,
   "outputs": [
    {
     "data": {
      "text/plain": "(torch.Size([128, 3, 32, 32]), torch.Size([128]))"
     },
     "execution_count": 19,
     "metadata": {},
     "output_type": "execute_result"
    }
   ],
   "source": [
    "# Samples required by the custom ImagePredictionLogger callback to log image predictions.\n",
    "val_samples = next(iter(dm.val_dataloader()))\n",
    "val_imgs, val_labels = val_samples[0], val_samples[1]\n",
    "val_imgs.shape, val_labels.shape"
   ],
   "metadata": {
    "collapsed": false,
    "pycharm": {
     "name": "#%%\n"
    }
   }
  },
  {
   "cell_type": "code",
   "execution_count": 20,
   "outputs": [],
   "source": [
    "early_stop_callback = EarlyStopping(\n",
    "   monitor='val_loss',\n",
    "   patience=3,\n",
    "   verbose=False,\n",
    "   mode='min'\n",
    ")"
   ],
   "metadata": {
    "collapsed": false,
    "pycharm": {
     "name": "#%%\n"
    }
   }
  },
  {
   "cell_type": "markdown",
   "source": [
    "### Complete the training, validation, and optimizer methods below"
   ],
   "metadata": {
    "collapsed": false,
    "pycharm": {
     "name": "#%% md\n"
    }
   }
  },
  {
   "cell_type": "code",
   "execution_count": 21,
   "outputs": [],
   "source": [
    "class LitResnet18(LightningModule):\n",
    "    def __init__(self, learning_rate, momentum, weight_decay):\n",
    "        super().__init__()\n",
    "        self.nn = resnet18(pretrained = False, progress  = True)\n",
    "        self.nn.fc = nn.Linear(self.nn.fc.in_features, 10)\n",
    "        self.lr = learning_rate\n",
    "        self.momentum = momentum\n",
    "        self.weight_decay = weight_decay\n",
    "        self.criterion = nn.CrossEntropyLoss().cuda(GPU)\n",
    "    \n",
    "    def forward(self, x):\n",
    "        return self.nn.forward(x)\n",
    "    \n",
    "    def training_step(self, batch, batch_idx):\n",
    "        x,y = batch\n",
    "        logits = self.nn(x)\n",
    "        loss = self.criterion(logits, y)\n",
    "        # training metrics\n",
    "        preds = torch.argmax(logits, dim=1)\n",
    "        acc = accuracy(preds, y, task = \"multiclass\", num_classes = 10)\n",
    "        self.log('train_loss', loss, on_step=True, on_epoch=True, logger=False)\n",
    "        self.log('train_acc', acc, on_step=True, on_epoch=True, logger=False)\n",
    "        if batch_idx % PRINT_FREQ == 0:\n",
    "          print(\"train step! \" + str(batch_idx) + \" train loss: \" + str(loss.item()) + \" train acc \" + str(acc.item()))        \n",
    "        return loss     \n",
    "        \n",
    "        \n",
    "    def validation_step(self, batch, batch_idx):\n",
    "        x,y = batch\n",
    "        logits = self.nn(x)\n",
    "        loss = self.criterion(logits, y) \n",
    "        # validation metrics\n",
    "        preds = torch.argmax(logits, dim=1)\n",
    "        acc = accuracy(preds, y, task = \"multiclass\", num_classes = 10)\n",
    "        self.log('val_loss', loss, prog_bar=True)\n",
    "        self.log('val_acc', acc, prog_bar=True)\n",
    "        if batch_idx % PRINT_FREQ == 0:\n",
    "          print(\"val step! \" + str(batch_idx) + \" val loss: \" + str(loss.item()) + \" val acc \" + str(acc.item()))\n",
    "        return loss  \n",
    "        \n",
    "        \n",
    "        \n",
    "    def configure_optimizers(self):\n",
    "        optimizer = torch.optim.SGD(model.parameters(), self.lr, momentum=self.momentum, weight_decay=self.weight_decay)\n",
    "        return optimizer"
   ],
   "metadata": {
    "collapsed": false,
    "pycharm": {
     "name": "#%%\n"
    }
   }
  },
  {
   "cell_type": "code",
   "execution_count": 22,
   "outputs": [
    {
     "name": "stderr",
     "output_type": "stream",
     "text": [
      "C:\\Users\\grandid\\miniconda3\\envs\\v3a-2\\lib\\site-packages\\torchvision\\models\\_utils.py:208: UserWarning: The parameter 'pretrained' is deprecated since 0.13 and may be removed in the future, please use 'weights' instead.\n",
      "  warnings.warn(\n",
      "C:\\Users\\grandid\\miniconda3\\envs\\v3a-2\\lib\\site-packages\\torchvision\\models\\_utils.py:223: UserWarning: Arguments other than a weight enum or `None` for 'weights' are deprecated since 0.13 and may be removed in the future. The current behavior is equivalent to passing `weights=None`.\n",
      "  warnings.warn(msg)\n"
     ]
    }
   ],
   "source": [
    "# model = resnet18(pretrained = False, progress  = True)\n",
    "model = LitResnet18(LR, MOMENTUM, WEIGHT_DECAY)\n"
   ],
   "metadata": {
    "collapsed": false,
    "pycharm": {
     "name": "#%%\n"
    }
   }
  },
  {
   "cell_type": "code",
   "execution_count": 32,
   "outputs": [
    {
     "name": "stderr",
     "output_type": "stream",
     "text": [
      "GPU available: True (cuda), used: True\n",
      "TPU available: False, using: 0 TPU cores\n",
      "IPU available: False, using: 0 IPUs\n",
      "HPU available: False, using: 0 HPUs\n"
     ]
    }
   ],
   "source": [
    "# Initialize a trainer\n",
    "trainer = pl.Trainer(max_epochs=EPOCHS,\n",
    "                     gpus=1,\n",
    "                     logger=None,\n",
    "                     callbacks=[early_stop_callback, checkpoint_callback],\n",
    "                     )"
   ],
   "metadata": {
    "collapsed": false,
    "pycharm": {
     "name": "#%%\n"
    }
   }
  },
  {
   "cell_type": "code",
   "execution_count": 33,
   "id": "d19630c1",
   "metadata": {
    "id": "d19630c1"
   },
   "outputs": [
    {
     "name": "stdout",
     "output_type": "stream",
     "text": [
      "Files already downloaded and verified\n",
      "Files already downloaded and verified\n"
     ]
    },
    {
     "name": "stderr",
     "output_type": "stream",
     "text": [
      "LOCAL_RANK: 0 - CUDA_VISIBLE_DEVICES: [0,1,2]\n",
      "\n",
      "  | Name      | Type             | Params\n",
      "-----------------------------------------------\n",
      "0 | nn        | ResNet           | 11.2 M\n",
      "1 | criterion | CrossEntropyLoss | 0     \n",
      "-----------------------------------------------\n",
      "11.2 M    Trainable params\n",
      "0         Non-trainable params\n",
      "11.2 M    Total params\n",
      "44.727    Total estimated model params size (MB)\n"
     ]
    },
    {
     "data": {
      "text/plain": "Sanity Checking: 0it [00:00, ?it/s]",
      "application/vnd.jupyter.widget-view+json": {
       "version_major": 2,
       "version_minor": 0,
       "model_id": "6b098c2c9a6d417984c55a8ca3f39552"
      }
     },
     "metadata": {},
     "output_type": "display_data"
    },
    {
     "name": "stdout",
     "output_type": "stream",
     "text": [
      "val step! 0 val loss: 2.372194290161133 val acc 0.1328125\n"
     ]
    },
    {
     "name": "stderr",
     "output_type": "stream",
     "text": [
      "C:\\Users\\grandid\\miniconda3\\envs\\v3a-2\\lib\\site-packages\\pytorch_lightning\\trainer\\connectors\\data_connector.py:224: PossibleUserWarning: The dataloader, train_dataloader, does not have many workers which may be a bottleneck. Consider increasing the value of the `num_workers` argument` (try 24 which is the number of cpus on this machine) in the `DataLoader` init to improve performance.\n",
      "  rank_zero_warn(\n"
     ]
    },
    {
     "data": {
      "text/plain": "Training: 0it [00:00, ?it/s]",
      "application/vnd.jupyter.widget-view+json": {
       "version_major": 2,
       "version_minor": 0,
       "model_id": "82e8dc71079f4b63abfcbf45001436b3"
      }
     },
     "metadata": {},
     "output_type": "display_data"
    },
    {
     "name": "stdout",
     "output_type": "stream",
     "text": [
      "train step! 0 train loss: 2.4847490787506104 train acc 0.140625\n",
      "train step! 50 train loss: 2.7515175342559814 train acc 0.21875\n",
      "train step! 100 train loss: 1.8652034997940063 train acc 0.3125\n",
      "train step! 150 train loss: 1.8951433897018433 train acc 0.328125\n",
      "train step! 200 train loss: 2.0577919483184814 train acc 0.296875\n",
      "train step! 250 train loss: 1.7193142175674438 train acc 0.390625\n",
      "train step! 300 train loss: 1.6305127143859863 train acc 0.46875\n",
      "train step! 350 train loss: 1.6575597524642944 train acc 0.40625\n"
     ]
    },
    {
     "data": {
      "text/plain": "Validation: 0it [00:00, ?it/s]",
      "application/vnd.jupyter.widget-view+json": {
       "version_major": 2,
       "version_minor": 0,
       "model_id": "b220ad9045e34bed9b27b2e3ae8d43a8"
      }
     },
     "metadata": {},
     "output_type": "display_data"
    },
    {
     "name": "stdout",
     "output_type": "stream",
     "text": [
      "val step! 0 val loss: 1.5634247064590454 val acc 0.46875\n",
      "val step! 50 val loss: 1.6393826007843018 val acc 0.4609375\n",
      "train step! 0 train loss: 1.61439049243927 train acc 0.3828125\n",
      "train step! 50 train loss: 1.5394006967544556 train acc 0.4296875\n",
      "train step! 100 train loss: 1.6740747690200806 train acc 0.375\n",
      "train step! 150 train loss: 1.492903709411621 train acc 0.4453125\n",
      "train step! 200 train loss: 1.5820711851119995 train acc 0.4375\n",
      "train step! 250 train loss: 1.4094233512878418 train acc 0.4765625\n",
      "train step! 300 train loss: 1.2854712009429932 train acc 0.53125\n",
      "train step! 350 train loss: 1.3089112043380737 train acc 0.5625\n"
     ]
    },
    {
     "data": {
      "text/plain": "Validation: 0it [00:00, ?it/s]",
      "application/vnd.jupyter.widget-view+json": {
       "version_major": 2,
       "version_minor": 0,
       "model_id": "d32e7457ad7f4167a267d55940dcffd9"
      }
     },
     "metadata": {},
     "output_type": "display_data"
    },
    {
     "name": "stdout",
     "output_type": "stream",
     "text": [
      "val step! 0 val loss: 1.2204228639602661 val acc 0.5859375\n",
      "val step! 50 val loss: 1.318739414215088 val acc 0.5546875\n",
      "train step! 0 train loss: 1.3242756128311157 train acc 0.546875\n",
      "train step! 50 train loss: 1.3336715698242188 train acc 0.5\n",
      "train step! 100 train loss: 1.3738987445831299 train acc 0.46875\n",
      "train step! 150 train loss: 1.2089847326278687 train acc 0.5546875\n",
      "train step! 200 train loss: 1.1186171770095825 train acc 0.546875\n",
      "train step! 250 train loss: 1.1720494031906128 train acc 0.578125\n",
      "train step! 300 train loss: 1.1128743886947632 train acc 0.5390625\n",
      "train step! 350 train loss: 1.1373581886291504 train acc 0.625\n"
     ]
    },
    {
     "data": {
      "text/plain": "Validation: 0it [00:00, ?it/s]",
      "application/vnd.jupyter.widget-view+json": {
       "version_major": 2,
       "version_minor": 0,
       "model_id": "4d5da6cc9edf495195ab1498a3d964ef"
      }
     },
     "metadata": {},
     "output_type": "display_data"
    },
    {
     "name": "stdout",
     "output_type": "stream",
     "text": [
      "val step! 0 val loss: 1.0680311918258667 val acc 0.609375\n",
      "val step! 50 val loss: 1.0926347970962524 val acc 0.625\n",
      "train step! 0 train loss: 1.08979332447052 train acc 0.5859375\n",
      "train step! 50 train loss: 0.9772717356681824 train acc 0.65625\n",
      "train step! 100 train loss: 1.1656326055526733 train acc 0.59375\n",
      "train step! 150 train loss: 1.0862491130828857 train acc 0.578125\n",
      "train step! 200 train loss: 1.189758539199829 train acc 0.5703125\n",
      "train step! 250 train loss: 1.0378353595733643 train acc 0.640625\n",
      "train step! 300 train loss: 1.2769482135772705 train acc 0.53125\n",
      "train step! 350 train loss: 1.0350534915924072 train acc 0.65625\n"
     ]
    },
    {
     "data": {
      "text/plain": "Validation: 0it [00:00, ?it/s]",
      "application/vnd.jupyter.widget-view+json": {
       "version_major": 2,
       "version_minor": 0,
       "model_id": "7962728363b14efc81844015bf250f63"
      }
     },
     "metadata": {},
     "output_type": "display_data"
    },
    {
     "name": "stdout",
     "output_type": "stream",
     "text": [
      "val step! 0 val loss: 1.223374843597412 val acc 0.5703125\n",
      "val step! 50 val loss: 1.3671236038208008 val acc 0.5390625\n",
      "train step! 0 train loss: 1.3961710929870605 train acc 0.5\n",
      "train step! 50 train loss: 1.001551628112793 train acc 0.65625\n",
      "train step! 100 train loss: 0.9258986711502075 train acc 0.6328125\n",
      "train step! 150 train loss: 1.1131962537765503 train acc 0.640625\n",
      "train step! 200 train loss: 0.9204949736595154 train acc 0.6640625\n",
      "train step! 250 train loss: 1.1459896564483643 train acc 0.59375\n",
      "train step! 300 train loss: 1.0398625135421753 train acc 0.65625\n",
      "train step! 350 train loss: 1.1226768493652344 train acc 0.625\n"
     ]
    },
    {
     "data": {
      "text/plain": "Validation: 0it [00:00, ?it/s]",
      "application/vnd.jupyter.widget-view+json": {
       "version_major": 2,
       "version_minor": 0,
       "model_id": "64cf128911fc4374a2259bc001267959"
      }
     },
     "metadata": {},
     "output_type": "display_data"
    },
    {
     "name": "stdout",
     "output_type": "stream",
     "text": [
      "val step! 0 val loss: 0.9221568703651428 val acc 0.7421875\n",
      "val step! 50 val loss: 0.9443749785423279 val acc 0.671875\n"
     ]
    },
    {
     "name": "stderr",
     "output_type": "stream",
     "text": [
      "`Trainer.fit` stopped: `max_epochs=5` reached.\n"
     ]
    }
   ],
   "source": [
    "trainer.fit(model, dm)"
   ]
  }
 ],
 "metadata": {
  "kernelspec": {
   "display_name": "Python 3",
   "language": "python",
   "name": "python3"
  },
  "language_info": {
   "codemirror_mode": {
    "name": "ipython",
    "version": 3
   },
   "file_extension": ".py",
   "mimetype": "text/x-python",
   "name": "python",
   "nbconvert_exporter": "python",
   "pygments_lexer": "ipython3",
   "version": "3.6.9"
  },
  "colab": {
   "provenance": []
  },
  "accelerator": "GPU",
  "gpuClass": "standard"
 },
 "nbformat": 4,
 "nbformat_minor": 5
}