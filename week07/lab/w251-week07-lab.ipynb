{
 "metadata": {
  "kernelspec": {
   "name": "v3a-2",
   "language": "python",
   "display_name": "v3a-2"
  },
  "language_info": {
   "pygments_lexer": "ipython3",
   "nbconvert_exporter": "python",
   "version": "3.6.4",
   "file_extension": ".py",
   "codemirror_mode": {
    "name": "ipython",
    "version": 3
   },
   "name": "python",
   "mimetype": "text/x-python"
  }
 },
 "nbformat_minor": 4,
 "nbformat": 4,
 "cells": [
  {
   "cell_type": "code",
   "source": [
    "%%capture\n",
    "!pip install timm\n",
    "from IPython.display import Image as ImageIpython\n",
    "from IPython.core.display import HTML"
   ],
   "metadata": {
    "papermill": {
     "duration": 8.573929,
     "end_time": "2021-06-10T06:46:54.430471",
     "exception": false,
     "start_time": "2021-06-10T06:46:45.856542",
     "status": "completed"
    },
    "tags": [],
    "trusted": true,
    "pycharm": {
     "name": "#%%\n"
    }
   },
   "execution_count": 1,
   "outputs": []
  },
  {
   "cell_type": "code",
   "execution_count": 6,
   "outputs": [
    {
     "name": "stderr",
     "output_type": "stream",
     "text": [
      "'ipip' is not recognized as an internal or external command,\n",
      "operable program or batch file.\n"
     ]
    }
   ],
   "source": [
    "!ipip install opencv"
   ],
   "metadata": {
    "collapsed": false,
    "pycharm": {
     "name": "#%%\n"
    }
   }
  },
  {
   "cell_type": "markdown",
   "source": [
    "\n",
    "## Table of contents\n",
    "* [Initial Setup](#section-one)\n",
    "* [LR Schedulers & Question](#section-two)\n",
    "* [Mixup & Question](#section-three)\n",
    "* [Architectures & Question](#section-four)\n",
    "* [Mixed Precision & Question](#section-five)\n",
    "* [Label Smoothing & Question](#section-six)"
   ],
   "metadata": {
    "papermill": {
     "duration": 0.024071,
     "end_time": "2021-06-10T06:46:54.479207",
     "exception": false,
     "start_time": "2021-06-10T06:46:54.455136",
     "status": "completed"
    },
    "tags": [],
    "pycharm": {
     "name": "#%% md\n"
    }
   }
  },
  {
   "cell_type": "code",
   "source": [
    "print(\"Imagenet improvement on Resnet-50 using tricks\")\n",
    "ImageIpython(url= \"https://miro.medium.com/max/890/1*4y2Rdl0i-kvNh2SCMZZBuw.png\")"
   ],
   "metadata": {
    "papermill": {
     "duration": 0.037856,
     "end_time": "2021-06-10T06:46:54.541399",
     "exception": false,
     "start_time": "2021-06-10T06:46:54.503543",
     "status": "completed"
    },
    "tags": [],
    "execution": {
     "iopub.status.busy": "2023-02-18T16:36:43.890744Z",
     "iopub.execute_input": "2023-02-18T16:36:43.891443Z",
     "iopub.status.idle": "2023-02-18T16:36:43.902634Z",
     "shell.execute_reply.started": "2023-02-18T16:36:43.8914Z",
     "shell.execute_reply": "2023-02-18T16:36:43.901474Z"
    },
    "trusted": true,
    "pycharm": {
     "name": "#%%\n"
    }
   },
   "execution_count": 2,
   "outputs": [
    {
     "name": "stdout",
     "output_type": "stream",
     "text": [
      "Imagenet improvement on Resnet-50 using tricks\n"
     ]
    },
    {
     "data": {
      "text/html": "<img src=\"https://miro.medium.com/max/890/1*4y2Rdl0i-kvNh2SCMZZBuw.png\"/>",
      "text/plain": "<IPython.core.display.Image object>"
     },
     "execution_count": 2,
     "metadata": {},
     "output_type": "execute_result"
    }
   ]
  },
  {
   "cell_type": "markdown",
   "source": [
    "<a id=\"section-one\"></a>\n",
    "## Initial Set up - just run through these steps"
   ],
   "metadata": {
    "papermill": {
     "duration": 0.024545,
     "end_time": "2021-06-10T06:46:54.59111",
     "exception": false,
     "start_time": "2021-06-10T06:46:54.566565",
     "status": "completed"
    },
    "tags": [],
    "pycharm": {
     "name": "#%% md\n"
    }
   }
  },
  {
   "cell_type": "code",
   "source": [
    "import time\n",
    "from tqdm import tqdm_notebook as tqdm\n",
    "#import tqdm.notebook import tqdm\n",
    "import cv2\n",
    "from PIL import Image\n",
    "import numpy as np\n",
    "import pandas as pd\n",
    "import torch\n",
    "import albumentations as A\n",
    "from albumentations.pytorch import ToTensorV2\n",
    "from torch.utils.data import DataLoader, Dataset\n",
    "from torch.optim import lr_scheduler\n",
    "import timm\n",
    "import warnings\n",
    "warnings.filterwarnings('ignore')"
   ],
   "metadata": {
    "papermill": {
     "duration": 3.651911,
     "end_time": "2021-06-10T06:46:58.268054",
     "exception": false,
     "start_time": "2021-06-10T06:46:54.616143",
     "status": "completed"
    },
    "tags": [],
    "execution": {
     "iopub.status.busy": "2023-02-18T16:36:43.904474Z",
     "iopub.execute_input": "2023-02-18T16:36:43.905465Z",
     "iopub.status.idle": "2023-02-18T16:36:48.027046Z",
     "shell.execute_reply.started": "2023-02-18T16:36:43.905412Z",
     "shell.execute_reply": "2023-02-18T16:36:48.025889Z"
    },
    "trusted": true,
    "pycharm": {
     "name": "#%%\n"
    }
   },
   "execution_count": 5,
   "outputs": [
    {
     "ename": "ModuleNotFoundError",
     "evalue": "No module named 'albumentations'",
     "output_type": "error",
     "traceback": [
      "\u001B[1;31m---------------------------------------------------------------------------\u001B[0m",
      "\u001B[1;31mModuleNotFoundError\u001B[0m                       Traceback (most recent call last)",
      "Cell \u001B[1;32mIn[5], line 9\u001B[0m\n\u001B[0;32m      7\u001B[0m \u001B[38;5;28;01mimport\u001B[39;00m \u001B[38;5;21;01mpandas\u001B[39;00m \u001B[38;5;28;01mas\u001B[39;00m \u001B[38;5;21;01mpd\u001B[39;00m\n\u001B[0;32m      8\u001B[0m \u001B[38;5;28;01mimport\u001B[39;00m \u001B[38;5;21;01mtorch\u001B[39;00m\n\u001B[1;32m----> 9\u001B[0m \u001B[38;5;28;01mimport\u001B[39;00m \u001B[38;5;21;01malbumentations\u001B[39;00m \u001B[38;5;28;01mas\u001B[39;00m \u001B[38;5;21;01mA\u001B[39;00m\n\u001B[0;32m     10\u001B[0m \u001B[38;5;28;01mfrom\u001B[39;00m \u001B[38;5;21;01malbumentations\u001B[39;00m\u001B[38;5;21;01m.\u001B[39;00m\u001B[38;5;21;01mpytorch\u001B[39;00m \u001B[38;5;28;01mimport\u001B[39;00m ToTensorV2\n\u001B[0;32m     11\u001B[0m \u001B[38;5;28;01mfrom\u001B[39;00m \u001B[38;5;21;01mtorch\u001B[39;00m\u001B[38;5;21;01m.\u001B[39;00m\u001B[38;5;21;01mutils\u001B[39;00m\u001B[38;5;21;01m.\u001B[39;00m\u001B[38;5;21;01mdata\u001B[39;00m \u001B[38;5;28;01mimport\u001B[39;00m DataLoader, Dataset\n",
      "\u001B[1;31mModuleNotFoundError\u001B[0m: No module named 'albumentations'"
     ]
    }
   ]
  },
  {
   "cell_type": "code",
   "source": [
    "DATA_DIR = \"bird-watch-spring-2023\""
   ],
   "metadata": {
    "execution": {
     "iopub.status.busy": "2023-02-18T16:36:48.030156Z",
     "iopub.execute_input": "2023-02-18T16:36:48.03055Z",
     "iopub.status.idle": "2023-02-18T16:36:48.037615Z",
     "shell.execute_reply.started": "2023-02-18T16:36:48.03051Z",
     "shell.execute_reply": "2023-02-18T16:36:48.036467Z"
    },
    "trusted": true,
    "pycharm": {
     "name": "#%%\n"
    }
   },
   "execution_count": 4,
   "outputs": []
  },
  {
   "cell_type": "code",
   "source": [
    "!ls -l ../input/$DATA_DIR"
   ],
   "metadata": {
    "papermill": {
     "duration": 0.670727,
     "end_time": "2021-06-10T06:46:58.964021",
     "exception": false,
     "start_time": "2021-06-10T06:46:58.293294",
     "status": "completed"
    },
    "tags": [],
    "execution": {
     "iopub.status.busy": "2023-02-18T16:36:48.039829Z",
     "iopub.execute_input": "2023-02-18T16:36:48.04064Z",
     "iopub.status.idle": "2023-02-18T16:36:49.002085Z",
     "shell.execute_reply.started": "2023-02-18T16:36:48.040602Z",
     "shell.execute_reply": "2023-02-18T16:36:49.000764Z"
    },
    "trusted": true,
    "pycharm": {
     "name": "#%%\n"
    }
   },
   "execution_count": 5,
   "outputs": [
    {
     "name": "stderr",
     "output_type": "stream",
     "text": [
      "'ls' is not recognized as an internal or external command,\n",
      "operable program or batch file.\n"
     ]
    }
   ]
  },
  {
   "cell_type": "code",
   "source": [
    "class args:\n",
    "    lr = 0.0001\n",
    "    epochs = 5\n",
    "    batch_size = 32\n",
    "    num_workers = 8\n",
    "    folds = 5"
   ],
   "metadata": {
    "papermill": {
     "duration": 0.032335,
     "end_time": "2021-06-10T06:46:59.022541",
     "exception": false,
     "start_time": "2021-06-10T06:46:58.990206",
     "status": "completed"
    },
    "tags": [],
    "execution": {
     "iopub.status.busy": "2023-02-18T16:36:49.004515Z",
     "iopub.execute_input": "2023-02-18T16:36:49.005397Z",
     "iopub.status.idle": "2023-02-18T16:36:49.01166Z",
     "shell.execute_reply.started": "2023-02-18T16:36:49.005352Z",
     "shell.execute_reply": "2023-02-18T16:36:49.010688Z"
    },
    "trusted": true,
    "pycharm": {
     "name": "#%%\n"
    }
   },
   "execution_count": null,
   "outputs": []
  },
  {
   "cell_type": "code",
   "source": [
    "alldf = pd.read_csv('../input/' + DATA_DIR + '/train.csv')\n",
    "# Split the training dataset into a training and a validation\n",
    "valdf = alldf[::args.folds]\n",
    "trndf = alldf[~alldf.filename.isin(valdf.filename)]\n",
    "# Load our test data\n",
    "tstdf = pd.read_csv('../input/' + DATA_DIR + '/test.csv')\n",
    "metadf = pd.read_csv('../input/' + DATA_DIR + '/metadata.csv')\n",
    "metadf = metadf.set_index('label')\n",
    "print(f'File shapes -- train : {trndf.shape}, valid : {valdf.shape}, test : {tstdf.shape}')\n",
    "trndf.head()"
   ],
   "metadata": {
    "papermill": {
     "duration": 0.14109,
     "end_time": "2021-06-10T06:46:59.188677",
     "exception": false,
     "start_time": "2021-06-10T06:46:59.047587",
     "status": "completed"
    },
    "tags": [],
    "execution": {
     "iopub.status.busy": "2023-02-18T16:36:49.013282Z",
     "iopub.execute_input": "2023-02-18T16:36:49.01381Z",
     "iopub.status.idle": "2023-02-18T16:36:49.102618Z",
     "shell.execute_reply.started": "2023-02-18T16:36:49.013773Z",
     "shell.execute_reply": "2023-02-18T16:36:49.101626Z"
    },
    "trusted": true,
    "pycharm": {
     "name": "#%%\n"
    }
   },
   "execution_count": null,
   "outputs": []
  },
  {
   "cell_type": "code",
   "source": [
    "imgnetmeans = [0.22363983, 0.18190407, 0.2523437 ]\n",
    "imgnetstds = [0.32451536, 0.2956294,  0.31335256]\n",
    "# Using albumentations, check some examples here : https://albumentations.readthedocs.io/en/latest/examples.html \n",
    "def trntransforms():\n",
    "    return A.Compose([\n",
    "        A.HorizontalFlip(p=0.5),\n",
    "        A.Transpose(p=0.5),\n",
    "        ToTensorV2(),\n",
    "        ])\n",
    "\n",
    "def tsttransforms():\n",
    "    return A.Compose([\n",
    "        ToTensorV2(),\n",
    "    ])\n",
    "\n",
    "class BirdDataset(Dataset):\n",
    "    def __init__(self, df, mode, transform=None):\n",
    "        self.data = df\n",
    "        self.img_dir = '../input/' + DATA_DIR + '/'\n",
    "        self.transform = transform\n",
    "        self.mode = mode\n",
    "\n",
    "    def __len__(self):\n",
    "        return len(self.data)\n",
    "\n",
    "    def __getitem__(self, idx):\n",
    "        \n",
    "        fname = self.data.iloc[idx]['filename']\n",
    "        image = cv2.imread(f'{self.img_dir}/{fname}')\n",
    "        if self.transform is not None:\n",
    "            image = self.transform(image = image)['image']\n",
    "        image = image.float() / 255.\n",
    "        label = -1 if self.mode=='test' else self.data.iloc[idx]['label']\n",
    "        \n",
    "        return image, label"
   ],
   "metadata": {
    "papermill": {
     "duration": 0.036573,
     "end_time": "2021-06-10T06:46:59.251732",
     "exception": false,
     "start_time": "2021-06-10T06:46:59.215159",
     "status": "completed"
    },
    "tags": [],
    "execution": {
     "iopub.status.busy": "2023-02-18T16:36:49.104028Z",
     "iopub.execute_input": "2023-02-18T16:36:49.105096Z",
     "iopub.status.idle": "2023-02-18T16:36:49.115076Z",
     "shell.execute_reply.started": "2023-02-18T16:36:49.105055Z",
     "shell.execute_reply": "2023-02-18T16:36:49.114083Z"
    },
    "trusted": true,
    "pycharm": {
     "name": "#%%\n"
    }
   },
   "execution_count": null,
   "outputs": []
  },
  {
   "cell_type": "code",
   "source": [
    "# Define our dataset\n",
    "trndataset = BirdDataset(trndf, 'train', trntransforms())\n",
    "valdataset = BirdDataset(valdf, 'valid', tsttransforms())\n",
    "tstdataset = BirdDataset(tstdf, 'test', tsttransforms())\n",
    "loaderargs = {'num_workers' : args.num_workers, 'batch_size':args.batch_size, 'pin_memory': False, 'drop_last': False}\n",
    "trnloader = DataLoader(trndataset, shuffle = True, **loaderargs)\n",
    "valloader = DataLoader(valdataset, shuffle = False, **loaderargs)\n",
    "tstloader = DataLoader(tstdataset, shuffle = False, **loaderargs)"
   ],
   "metadata": {
    "papermill": {
     "duration": 0.033664,
     "end_time": "2021-06-10T06:46:59.311841",
     "exception": false,
     "start_time": "2021-06-10T06:46:59.278177",
     "status": "completed"
    },
    "tags": [],
    "execution": {
     "iopub.status.busy": "2023-02-18T16:36:49.11675Z",
     "iopub.execute_input": "2023-02-18T16:36:49.117233Z",
     "iopub.status.idle": "2023-02-18T16:36:49.129548Z",
     "shell.execute_reply.started": "2023-02-18T16:36:49.117199Z",
     "shell.execute_reply": "2023-02-18T16:36:49.128649Z"
    },
    "trusted": true,
    "pycharm": {
     "name": "#%%\n"
    }
   },
   "execution_count": null,
   "outputs": []
  },
  {
   "cell_type": "code",
   "source": [
    "# creates efficientnet-b0 architecture\n",
    "device = torch.device(\"cuda:0\")\n",
    "model = timm.create_model('efficientnet_b2', pretrained = True)\n",
    "model = model.to(device)\n",
    "optimizer = torch.optim.Adam(model.parameters(), lr=args.lr)\n",
    "criterion = torch.nn.CrossEntropyLoss()"
   ],
   "metadata": {
    "papermill": {
     "duration": 7.662926,
     "end_time": "2021-06-10T06:47:07.000547",
     "exception": false,
     "start_time": "2021-06-10T06:46:59.337621",
     "status": "completed"
    },
    "tags": [],
    "execution": {
     "iopub.status.busy": "2023-02-18T16:36:49.133707Z",
     "iopub.execute_input": "2023-02-18T16:36:49.134129Z",
     "iopub.status.idle": "2023-02-18T16:36:54.221754Z",
     "shell.execute_reply.started": "2023-02-18T16:36:49.134089Z",
     "shell.execute_reply": "2023-02-18T16:36:54.220673Z"
    },
    "trusted": true,
    "pycharm": {
     "name": "#%%\n"
    }
   },
   "execution_count": null,
   "outputs": []
  },
  {
   "cell_type": "markdown",
   "source": [
    "<a id=\"section-two\"></a>\n",
    "# LR Schedulers"
   ],
   "metadata": {
    "papermill": {
     "duration": 0.026465,
     "end_time": "2021-06-10T06:47:07.053592",
     "exception": false,
     "start_time": "2021-06-10T06:47:07.027127",
     "status": "completed"
    },
    "tags": [],
    "pycharm": {
     "name": "#%% md\n"
    }
   }
  },
  {
   "cell_type": "code",
   "source": [
    "# Create a scheduler which will warmup and cooldown over 20 epochs.\n",
    "from timm.scheduler.cosine_lr import CosineLRScheduler\n",
    "\n",
    "n_epochs = 20\n",
    "n_warmup_epochs = 2\n",
    "n_steps = len(trnloader)\n",
    "\n",
    "scheduler = CosineLRScheduler(\n",
    "            optimizer,\n",
    "            t_initial= n_steps * n_epochs + 1,\n",
    "            lr_min=0.00001,\n",
    "            warmup_lr_init=0.00001,\n",
    "            warmup_t= n_steps * n_warmup_epochs + 1)"
   ],
   "metadata": {
    "papermill": {
     "duration": 0.035868,
     "end_time": "2021-06-10T06:47:07.116218",
     "exception": false,
     "start_time": "2021-06-10T06:47:07.08035",
     "status": "completed"
    },
    "tags": [],
    "execution": {
     "iopub.status.busy": "2023-02-18T16:36:54.226546Z",
     "iopub.execute_input": "2023-02-18T16:36:54.228835Z",
     "iopub.status.idle": "2023-02-18T16:36:54.24568Z",
     "shell.execute_reply.started": "2023-02-18T16:36:54.228795Z",
     "shell.execute_reply": "2023-02-18T16:36:54.244507Z"
    },
    "trusted": true,
    "pycharm": {
     "name": "#%%\n"
    }
   },
   "execution_count": null,
   "outputs": []
  },
  {
   "cell_type": "code",
   "source": [
    "# Let's visualise how this changes the LR\n",
    "lrls = []\n",
    "global_step = 0\n",
    "for epoch in range(n_epochs):\n",
    "    for step in range(len(trnloader)):\n",
    "        #train_step(...)\n",
    "        scheduler.step(global_step)\n",
    "        global_step+=1\n",
    "        lrls.append(optimizer.param_groups[0]['lr']) \n",
    "    #validate_epoch(...)\n",
    "# Plot\n",
    "ax = pd.Series(lrls).plot(logy=True, figsize = (10, 4))\n",
    "for i in range(0,n_epochs*n_steps+1,n_steps) : ax.axvline(i, linewidth=0.2, color='r', linestyle='--')\n",
    "ax.set_xlabel(\"steps\")\n",
    "ax.set_ylabel(\"LR (log scale)\")"
   ],
   "metadata": {
    "papermill": {
     "duration": 0.767567,
     "end_time": "2021-06-10T06:47:07.910587",
     "exception": false,
     "start_time": "2021-06-10T06:47:07.14302",
     "status": "completed"
    },
    "tags": [],
    "execution": {
     "iopub.status.busy": "2023-02-18T16:36:54.249992Z",
     "iopub.execute_input": "2023-02-18T16:36:54.25044Z",
     "iopub.status.idle": "2023-02-18T16:36:55.150855Z",
     "shell.execute_reply.started": "2023-02-18T16:36:54.250403Z",
     "shell.execute_reply": "2023-02-18T16:36:55.149767Z"
    },
    "trusted": true,
    "pycharm": {
     "name": "#%%\n"
    }
   },
   "execution_count": null,
   "outputs": []
  },
  {
   "cell_type": "markdown",
   "source": [
    "##### Cosine Annealing is a type of learning rate schedule that has the effect of starting with a large learning rate that is relatively rapidly decreased to a minimum value before being increased rapidly again. The resetting of the learning rate acts like a simulated restart of the learning process and the re-use of good weights as the starting point of the restart is referred to as a \"warm restart\" in contrast to a \"cold restart\" where a new set of small random numbers may be used as a starting point."
   ],
   "metadata": {
    "papermill": {
     "duration": 0.026928,
     "end_time": "2021-06-10T06:47:07.964983",
     "exception": false,
     "start_time": "2021-06-10T06:47:07.938055",
     "status": "completed"
    },
    "tags": [],
    "pycharm": {
     "name": "#%% md\n"
    }
   }
  },
  {
   "cell_type": "code",
   "source": [
    "lrls = []\n",
    "global_step = 0\n",
    "for epoch in range(n_epochs * 6):\n",
    "    for step in range(len(trnloader)):\n",
    "        #train_step(...)\n",
    "        scheduler.step(global_step)\n",
    "        global_step+=1\n",
    "        lrls.append(optimizer.param_groups[0]['lr']) \n",
    "    #validate_epoch(...)\n",
    "# Plot\n",
    "ax = pd.Series(lrls).plot(logy=True, figsize = (10, 4))\n",
    "for i in range(0,n_epochs * 6 *n_steps+1,n_steps) : ax.axvline(i, linewidth=0.2, color='r', linestyle='--')\n",
    "ax.set_xlabel(\"steps\")\n",
    "ax.set_ylabel(\"LR (log scale)\")"
   ],
   "metadata": {
    "papermill": {
     "duration": 1.037807,
     "end_time": "2021-06-10T06:47:09.030364",
     "exception": false,
     "start_time": "2021-06-10T06:47:07.992557",
     "status": "completed"
    },
    "tags": [],
    "execution": {
     "iopub.status.busy": "2023-02-18T16:36:55.155338Z",
     "iopub.execute_input": "2023-02-18T16:36:55.155701Z",
     "iopub.status.idle": "2023-02-18T16:36:56.133399Z",
     "shell.execute_reply.started": "2023-02-18T16:36:55.155666Z",
     "shell.execute_reply": "2023-02-18T16:36:56.132277Z"
    },
    "trusted": true,
    "pycharm": {
     "name": "#%%\n"
    }
   },
   "execution_count": null,
   "outputs": []
  },
  {
   "cell_type": "markdown",
   "source": [
    "<a id=\"#subsection-two-one\"></a>\n",
    "### Question : Can you implement a cosine learning rate schedule which has 4 epochs warmup and reaches a minimum at 15 epochs, using the n_steps from `trnloader`. "
   ],
   "metadata": {
    "papermill": {
     "duration": 0.028924,
     "end_time": "2021-06-10T06:47:09.088675",
     "exception": false,
     "start_time": "2021-06-10T06:47:09.059751",
     "status": "completed"
    },
    "tags": [],
    "pycharm": {
     "name": "#%% md\n"
    }
   }
  },
  {
   "cell_type": "code",
   "source": [],
   "metadata": {
    "papermill": {
     "duration": 0.028364,
     "end_time": "2021-06-10T06:47:09.146238",
     "exception": false,
     "start_time": "2021-06-10T06:47:09.117874",
     "status": "completed"
    },
    "tags": [],
    "pycharm": {
     "name": "#%%\n"
    }
   },
   "execution_count": null,
   "outputs": []
  },
  {
   "cell_type": "code",
   "source": [],
   "metadata": {
    "papermill": {
     "duration": 0.028164,
     "end_time": "2021-06-10T06:47:09.202807",
     "exception": false,
     "start_time": "2021-06-10T06:47:09.174643",
     "status": "completed"
    },
    "tags": [],
    "pycharm": {
     "name": "#%%\n"
    }
   },
   "execution_count": null,
   "outputs": []
  },
  {
   "cell_type": "markdown",
   "source": [
    "<a id=\"section-three\"></a>\n",
    "## Mixup"
   ],
   "metadata": {
    "papermill": {
     "duration": 0.028065,
     "end_time": "2021-06-10T06:47:09.259359",
     "exception": false,
     "start_time": "2021-06-10T06:47:09.231294",
     "status": "completed"
    },
    "tags": [],
    "pycharm": {
     "name": "#%% md\n"
    }
   }
  },
  {
   "cell_type": "code",
   "source": [
    "ImageIpython(url= \"https://forums.fast.ai/uploads/default/original/3X/4/b/4b00023c65aa58fbe58b02271de08949e53c64b9.png\")"
   ],
   "metadata": {
    "papermill": {
     "duration": 0.038142,
     "end_time": "2021-06-10T06:47:09.325716",
     "exception": false,
     "start_time": "2021-06-10T06:47:09.287574",
     "status": "completed"
    },
    "tags": [],
    "execution": {
     "iopub.status.busy": "2023-02-18T16:36:56.134909Z",
     "iopub.execute_input": "2023-02-18T16:36:56.135864Z",
     "iopub.status.idle": "2023-02-18T16:36:56.144325Z",
     "shell.execute_reply.started": "2023-02-18T16:36:56.135823Z",
     "shell.execute_reply": "2023-02-18T16:36:56.143309Z"
    },
    "jupyter": {
     "source_hidden": true
    },
    "trusted": true,
    "pycharm": {
     "name": "#%%\n"
    }
   },
   "execution_count": null,
   "outputs": []
  },
  {
   "cell_type": "code",
   "source": [
    "# Lets try this very simply. \n",
    "img1 = cv2.imread(f'../input/bird-watch-spring-2022/{trndf.iloc[0].filename}')\n",
    "img2 = cv2.imread(f'../input/bird-watch-spring-2022/{trndf.iloc[1].filename}')\n",
    "mixup_alpha = 0.6\n",
    "img_mixed = (img1 * mixup_alpha + img2 * (1-mixup_alpha)).astype(np.uint8)\n",
    "Image.fromarray(np.concatenate([img1,img2,img_mixed], 1))"
   ],
   "metadata": {
    "papermill": {
     "duration": 0.144212,
     "end_time": "2021-06-10T06:47:09.498618",
     "exception": false,
     "start_time": "2021-06-10T06:47:09.354406",
     "status": "completed"
    },
    "tags": [],
    "execution": {
     "iopub.status.busy": "2023-02-18T16:36:56.145761Z",
     "iopub.execute_input": "2023-02-18T16:36:56.146768Z",
     "iopub.status.idle": "2023-02-18T16:36:56.355558Z",
     "shell.execute_reply.started": "2023-02-18T16:36:56.146737Z",
     "shell.execute_reply": "2023-02-18T16:36:56.35389Z"
    },
    "trusted": true,
    "pycharm": {
     "name": "#%%\n"
    }
   },
   "execution_count": null,
   "outputs": []
  },
  {
   "cell_type": "code",
   "source": [
    "beta = 1.0\n",
    "\n",
    "for step, batch in enumerate(trnloader):\n",
    "    if step > 20: \n",
    "        break\n",
    "    inputs = batch[0].to(device, dtype=torch.float)\n",
    "    labels = batch[1].to(device).long()\n",
    "    \n",
    "    # Get out a random value form a distribution    \n",
    "    lam = np.random.beta(beta, beta)\n",
    "    rand_index = torch.randperm(inputs.size()[0]).to(device) # make an index which reorders the batch\n",
    "    \n",
    "    # Reorder the labels\n",
    "    labels_a = labels\n",
    "    labels_b = labels[rand_index]\n",
    "    \n",
    "    # Partially mixup up the batch\n",
    "    inputs_mixed = lam * inputs + (1 - lam) * inputs[rand_index]\n",
    "    \n",
    "    optimizer.zero_grad()\n",
    "    output = model(inputs_mixed)\n",
    "    \n",
    "    # Partial loss against original labels, partial loss against mixed up labels\n",
    "    loss = criterion(output, labels_a) * lam + criterion(output, labels_b) * (1. - lam)\n",
    "    loss.backward()\n",
    "    optimizer.step()\n",
    "    \n",
    "    # Note, do not mixup your validation or test data !! Just train, make the model sweat....\n",
    "\n",
    "    "
   ],
   "metadata": {
    "papermill": {
     "duration": 6.969839,
     "end_time": "2021-06-10T06:47:16.50364",
     "exception": false,
     "start_time": "2021-06-10T06:47:09.533801",
     "status": "completed"
    },
    "tags": [],
    "execution": {
     "iopub.status.busy": "2023-02-18T16:36:56.356746Z",
     "iopub.status.idle": "2023-02-18T16:36:56.357725Z",
     "shell.execute_reply.started": "2023-02-18T16:36:56.357457Z",
     "shell.execute_reply": "2023-02-18T16:36:56.35748Z"
    },
    "trusted": true,
    "pycharm": {
     "name": "#%%\n"
    }
   },
   "execution_count": null,
   "outputs": []
  },
  {
   "cell_type": "markdown",
   "source": [
    "### Questions \n",
    "Can you plot the different distributions of `lam`. (Something like ... `pd.Series([np.random.beta(beta, beta) for i in range(1000)]).hist(bins=100)`).   \n",
    "Why would we us larger or smaller values of `lam` ?   \n",
    "Can you understand how the loss is calculated above, and why ?   \n",
    "Can you guess how you would implement cutmix in the example above ?"
   ],
   "metadata": {
    "papermill": {
     "duration": 0.03535,
     "end_time": "2021-06-10T06:47:16.575127",
     "exception": false,
     "start_time": "2021-06-10T06:47:16.539777",
     "status": "completed"
    },
    "tags": [],
    "pycharm": {
     "name": "#%% md\n"
    }
   }
  },
  {
   "cell_type": "code",
   "source": [],
   "metadata": {
    "papermill": {
     "duration": 0.034701,
     "end_time": "2021-06-10T06:47:16.644784",
     "exception": false,
     "start_time": "2021-06-10T06:47:16.610083",
     "status": "completed"
    },
    "tags": [],
    "pycharm": {
     "name": "#%%\n"
    }
   },
   "execution_count": null,
   "outputs": []
  },
  {
   "cell_type": "code",
   "source": [],
   "metadata": {
    "papermill": {
     "duration": 0.035081,
     "end_time": "2021-06-10T06:47:16.715179",
     "exception": false,
     "start_time": "2021-06-10T06:47:16.680098",
     "status": "completed"
    },
    "tags": [],
    "pycharm": {
     "name": "#%%\n"
    }
   },
   "execution_count": null,
   "outputs": []
  },
  {
   "cell_type": "markdown",
   "source": [
    "<a id=\"section-four\"></a>\n",
    "# Different Architectures"
   ],
   "metadata": {
    "papermill": {
     "duration": 0.03481,
     "end_time": "2021-06-10T06:47:16.784982",
     "exception": false,
     "start_time": "2021-06-10T06:47:16.750172",
     "status": "completed"
    },
    "tags": [],
    "pycharm": {
     "name": "#%% md\n"
    }
   }
  },
  {
   "cell_type": "markdown",
   "source": [
    "#### Above we chose to work with efficientnet-b0, can you initialise a pretrained `mixnet-xl` model ? Tip, check the results table [here](https://github.com/rwightman/pytorch-image-models/blob/master/results/results-imagenet.csv)"
   ],
   "metadata": {
    "papermill": {
     "duration": 0.034719,
     "end_time": "2021-06-10T06:47:16.854821",
     "exception": false,
     "start_time": "2021-06-10T06:47:16.820102",
     "status": "completed"
    },
    "tags": [],
    "pycharm": {
     "name": "#%% md\n"
    }
   }
  },
  {
   "cell_type": "code",
   "source": [
    "model = timm.create_model('efficientnet_b2', pretrained = True)"
   ],
   "metadata": {
    "papermill": {
     "duration": 0.292812,
     "end_time": "2021-06-10T06:47:17.182768",
     "exception": false,
     "start_time": "2021-06-10T06:47:16.889956",
     "status": "completed"
    },
    "tags": [],
    "execution": {
     "iopub.status.busy": "2023-02-18T16:36:56.35914Z",
     "iopub.status.idle": "2023-02-18T16:36:56.364109Z",
     "shell.execute_reply.started": "2023-02-18T16:36:56.363917Z",
     "shell.execute_reply": "2023-02-18T16:36:56.363936Z"
    },
    "trusted": true,
    "pycharm": {
     "name": "#%%\n"
    }
   },
   "execution_count": null,
   "outputs": []
  },
  {
   "cell_type": "markdown",
   "source": [
    "#### Our model still has 1000 classes outputted. How would you initialise it with 10 classes in one line of code. Tip, try checking https://fastai.github.io/timmdocs/"
   ],
   "metadata": {
    "papermill": {
     "duration": 0.035121,
     "end_time": "2021-06-10T06:47:17.253611",
     "exception": false,
     "start_time": "2021-06-10T06:47:17.21849",
     "status": "completed"
    },
    "tags": [],
    "pycharm": {
     "name": "#%% md\n"
    }
   }
  },
  {
   "cell_type": "code",
   "source": [],
   "metadata": {
    "papermill": {
     "duration": 0.034903,
     "end_time": "2021-06-10T06:47:17.32384",
     "exception": false,
     "start_time": "2021-06-10T06:47:17.288937",
     "status": "completed"
    },
    "tags": [],
    "pycharm": {
     "name": "#%%\n"
    }
   },
   "execution_count": null,
   "outputs": []
  },
  {
   "cell_type": "code",
   "source": [],
   "metadata": {
    "papermill": {
     "duration": 0.035104,
     "end_time": "2021-06-10T06:47:17.394176",
     "exception": false,
     "start_time": "2021-06-10T06:47:17.359072",
     "status": "completed"
    },
    "tags": [],
    "pycharm": {
     "name": "#%%\n"
    }
   },
   "execution_count": null,
   "outputs": []
  },
  {
   "cell_type": "code",
   "source": [],
   "metadata": {
    "papermill": {
     "duration": 0.034819,
     "end_time": "2021-06-10T06:47:17.463993",
     "exception": false,
     "start_time": "2021-06-10T06:47:17.429174",
     "status": "completed"
    },
    "tags": [],
    "pycharm": {
     "name": "#%%\n"
    }
   },
   "execution_count": null,
   "outputs": []
  },
  {
   "cell_type": "markdown",
   "source": [
    "<a id=\"section-five\"></a>\n",
    "# Mixed Precision Training"
   ],
   "metadata": {
    "papermill": {
     "duration": 0.035298,
     "end_time": "2021-06-10T06:47:17.534574",
     "exception": false,
     "start_time": "2021-06-10T06:47:17.499276",
     "status": "completed"
    },
    "tags": [],
    "pycharm": {
     "name": "#%% md\n"
    }
   }
  },
  {
   "cell_type": "code",
   "source": [
    "ImageIpython(url= \"https://developer-blogs.nvidia.com/wp-content/uploads/2019/10/Screen-Shot-2019-10-18-at-7.31.09-AM-624x328.png\")"
   ],
   "metadata": {
    "_kg_hide-input": true,
    "papermill": {
     "duration": 0.04462,
     "end_time": "2021-06-10T06:47:17.614607",
     "exception": false,
     "start_time": "2021-06-10T06:47:17.569987",
     "status": "completed"
    },
    "tags": [],
    "execution": {
     "iopub.status.busy": "2023-02-18T16:36:56.365042Z",
     "iopub.status.idle": "2023-02-18T16:36:56.365399Z",
     "shell.execute_reply.started": "2023-02-18T16:36:56.36521Z",
     "shell.execute_reply": "2023-02-18T16:36:56.365225Z"
    },
    "trusted": true,
    "pycharm": {
     "name": "#%%\n"
    }
   },
   "execution_count": null,
   "outputs": []
  },
  {
   "cell_type": "markdown",
   "source": [
    "### Can you implement mixed precision in the below training loop. Tip : Check [this](https://pytorch.org/docs/stable/notes/amp_examples.html#typical-mixed-precision-training) example. You will need to comment out some of the below lines, its not too tough.\n",
    "### See how large you can make your batchsize with mixed precision, and without mixed precision (you may need ot restart the kernels a few times.)"
   ],
   "metadata": {
    "papermill": {
     "duration": 0.041204,
     "end_time": "2021-06-10T06:47:17.693796",
     "exception": false,
     "start_time": "2021-06-10T06:47:17.652592",
     "status": "completed"
    },
    "tags": [],
    "pycharm": {
     "name": "#%% md\n"
    }
   }
  },
  {
   "cell_type": "code",
   "source": [
    "from torch.cuda.amp import autocast, GradScaler\n",
    "\n",
    "model.to(device)\n",
    "model.train()\n",
    "\n",
    "for step, batch in enumerate(trnloader):\n",
    "    if step > 20:\n",
    "        break\n",
    "    inputs = batch[0].to(device, dtype=torch.float)\n",
    "    labels = batch[1].to(device).long()\n",
    "    optimizer.zero_grad()\n",
    "    outputs = model(inputs)\n",
    "    loss = criterion(outputs, labels)\n",
    "    loss.backward()\n",
    "    optimizer.step()"
   ],
   "metadata": {
    "papermill": {
     "duration": 6.710393,
     "end_time": "2021-06-10T06:47:24.439675",
     "exception": false,
     "start_time": "2021-06-10T06:47:17.729282",
     "status": "completed"
    },
    "tags": [],
    "execution": {
     "iopub.status.busy": "2023-02-18T16:36:56.368808Z",
     "iopub.status.idle": "2023-02-18T16:36:56.369519Z",
     "shell.execute_reply.started": "2023-02-18T16:36:56.369255Z",
     "shell.execute_reply": "2023-02-18T16:36:56.369279Z"
    },
    "trusted": true,
    "pycharm": {
     "name": "#%%\n"
    }
   },
   "execution_count": null,
   "outputs": []
  },
  {
   "cell_type": "code",
   "source": [],
   "metadata": {
    "papermill": {
     "duration": 0.035787,
     "end_time": "2021-06-10T06:47:24.511963",
     "exception": false,
     "start_time": "2021-06-10T06:47:24.476176",
     "status": "completed"
    },
    "tags": [],
    "pycharm": {
     "name": "#%%\n"
    }
   },
   "execution_count": null,
   "outputs": []
  },
  {
   "cell_type": "code",
   "source": [],
   "metadata": {
    "papermill": {
     "duration": 0.03565,
     "end_time": "2021-06-10T06:47:24.583243",
     "exception": false,
     "start_time": "2021-06-10T06:47:24.547593",
     "status": "completed"
    },
    "tags": [],
    "pycharm": {
     "name": "#%%\n"
    }
   },
   "execution_count": null,
   "outputs": []
  },
  {
   "cell_type": "markdown",
   "source": [
    "<a id=\"section-six\"></a>\n",
    "# Label Smoothing\n",
    "The generalization and learning speed of a multi-class neural network can often\n",
    "be significantly improved by using soft targets that are a weighted average of the\n",
    "hard targets and the uniform distribution over labels. Smoothing the labels in this\n",
    "way prevents the network from becoming over-confident and label smoothing has\n",
    "been used in many state-of-the-art models,"
   ],
   "metadata": {
    "papermill": {
     "duration": 0.035708,
     "end_time": "2021-06-10T06:47:24.6548",
     "exception": false,
     "start_time": "2021-06-10T06:47:24.619092",
     "status": "completed"
    },
    "tags": [],
    "pycharm": {
     "name": "#%% md\n"
    }
   }
  },
  {
   "cell_type": "code",
   "source": [
    "ImageIpython(url= \"https://paperswithcode.com/media/methods/image3_1_oTiwmLN.png\")"
   ],
   "metadata": {
    "papermill": {
     "duration": 0.045263,
     "end_time": "2021-06-10T06:47:24.736733",
     "exception": false,
     "start_time": "2021-06-10T06:47:24.69147",
     "status": "completed"
    },
    "tags": [],
    "execution": {
     "iopub.status.busy": "2023-02-18T16:36:56.37086Z",
     "iopub.status.idle": "2023-02-18T16:36:56.371569Z",
     "shell.execute_reply.started": "2023-02-18T16:36:56.371312Z",
     "shell.execute_reply": "2023-02-18T16:36:56.371337Z"
    },
    "jupyter": {
     "source_hidden": true
    },
    "trusted": true,
    "pycharm": {
     "name": "#%%\n"
    }
   },
   "execution_count": null,
   "outputs": []
  },
  {
   "cell_type": "markdown",
   "source": [
    "### Can you implement label smoothing in the below training loop. Tip : Check [this](https://github.com/pytorch/pytorch/issues/7455#issuecomment-513062631) or [this](https://github.com/pytorch/pytorch/issues/7455#issuecomment-759175034) example. "
   ],
   "metadata": {
    "papermill": {
     "duration": 0.035804,
     "end_time": "2021-06-10T06:47:24.808677",
     "exception": false,
     "start_time": "2021-06-10T06:47:24.772873",
     "status": "completed"
    },
    "tags": [],
    "pycharm": {
     "name": "#%% md\n"
    }
   }
  },
  {
   "cell_type": "code",
   "source": [
    "from torch.cuda.amp import autocast, GradScaler\n",
    "\n",
    "model.to(device)\n",
    "model.train()\n",
    "criterion = torch.nn.CrossEntropyLoss()\n",
    "\n",
    "for step, batch in enumerate(trnloader):\n",
    "    if step > 20:\n",
    "        break\n",
    "    inputs = batch[0].to(device, dtype=torch.float)\n",
    "    labels = batch[1].to(device).long()\n",
    "    optimizer.zero_grad()\n",
    "    outputs = model(inputs)\n",
    "    loss = criterion(outputs, labels)\n",
    "    loss.backward()\n",
    "    optimizer.step()"
   ],
   "metadata": {
    "papermill": {
     "duration": 6.069627,
     "end_time": "2021-06-10T06:47:30.91459",
     "exception": false,
     "start_time": "2021-06-10T06:47:24.844963",
     "status": "completed"
    },
    "tags": [],
    "execution": {
     "iopub.status.busy": "2023-02-18T16:36:56.372862Z",
     "iopub.status.idle": "2023-02-18T16:36:56.37368Z",
     "shell.execute_reply.started": "2023-02-18T16:36:56.373379Z",
     "shell.execute_reply": "2023-02-18T16:36:56.373407Z"
    },
    "trusted": true,
    "pycharm": {
     "name": "#%%\n"
    }
   },
   "execution_count": null,
   "outputs": []
  },
  {
   "cell_type": "code",
   "source": [],
   "metadata": {
    "papermill": {
     "duration": 0.035871,
     "end_time": "2021-06-10T06:47:30.987196",
     "exception": false,
     "start_time": "2021-06-10T06:47:30.951325",
     "status": "completed"
    },
    "tags": [],
    "pycharm": {
     "name": "#%%\n"
    }
   },
   "execution_count": null,
   "outputs": []
  },
  {
   "cell_type": "code",
   "source": [],
   "metadata": {
    "papermill": {
     "duration": 0.035771,
     "end_time": "2021-06-10T06:47:31.059178",
     "exception": false,
     "start_time": "2021-06-10T06:47:31.023407",
     "status": "completed"
    },
    "tags": [],
    "pycharm": {
     "name": "#%%\n"
    }
   },
   "execution_count": null,
   "outputs": []
  }
 ]
}